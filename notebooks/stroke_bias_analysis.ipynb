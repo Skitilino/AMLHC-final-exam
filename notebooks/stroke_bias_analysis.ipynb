{
 "cells": [
  {
   "cell_type": "markdown",
   "id": "e261e841-f784-401b-bf92-5fbb0ab614f8",
   "metadata": {},
   "source": [
    "# Analyse des Schlaganfallrisikos mit maschinellem Lernen\n",
    "\n",
    "**Projekt:** AMLHC-FINAL-EXAM  \n",
    "**Datensatz:** Stroke Prediction Dataset  \n",
    "**Forschungsfrage:**  \n",
    "Wie gut kann ein ML-Modell das Schlaganfallrisiko vorhersagen und welche Verzerrungen entstehen durch Alter oder Geschlecht?\n"
   ]
  },
  {
   "cell_type": "code",
   "execution_count": 2,
   "id": "506583f4-af53-4753-8cfa-b5fa0078064b",
   "metadata": {},
   "outputs": [
    {
     "data": {
      "text/html": [
       "<div>\n",
       "<style scoped>\n",
       "    .dataframe tbody tr th:only-of-type {\n",
       "        vertical-align: middle;\n",
       "    }\n",
       "\n",
       "    .dataframe tbody tr th {\n",
       "        vertical-align: top;\n",
       "    }\n",
       "\n",
       "    .dataframe thead th {\n",
       "        text-align: right;\n",
       "    }\n",
       "</style>\n",
       "<table border=\"1\" class=\"dataframe\">\n",
       "  <thead>\n",
       "    <tr style=\"text-align: right;\">\n",
       "      <th></th>\n",
       "      <th>id</th>\n",
       "      <th>gender</th>\n",
       "      <th>age</th>\n",
       "      <th>hypertension</th>\n",
       "      <th>heart_disease</th>\n",
       "      <th>ever_married</th>\n",
       "      <th>work_type</th>\n",
       "      <th>Residence_type</th>\n",
       "      <th>avg_glucose_level</th>\n",
       "      <th>bmi</th>\n",
       "      <th>smoking_status</th>\n",
       "      <th>stroke</th>\n",
       "    </tr>\n",
       "  </thead>\n",
       "  <tbody>\n",
       "    <tr>\n",
       "      <th>0</th>\n",
       "      <td>9046</td>\n",
       "      <td>Male</td>\n",
       "      <td>67.0</td>\n",
       "      <td>0</td>\n",
       "      <td>1</td>\n",
       "      <td>Yes</td>\n",
       "      <td>Private</td>\n",
       "      <td>Urban</td>\n",
       "      <td>228.69</td>\n",
       "      <td>36.6</td>\n",
       "      <td>formerly smoked</td>\n",
       "      <td>1</td>\n",
       "    </tr>\n",
       "    <tr>\n",
       "      <th>1</th>\n",
       "      <td>51676</td>\n",
       "      <td>Female</td>\n",
       "      <td>61.0</td>\n",
       "      <td>0</td>\n",
       "      <td>0</td>\n",
       "      <td>Yes</td>\n",
       "      <td>Self-employed</td>\n",
       "      <td>Rural</td>\n",
       "      <td>202.21</td>\n",
       "      <td>NaN</td>\n",
       "      <td>never smoked</td>\n",
       "      <td>1</td>\n",
       "    </tr>\n",
       "    <tr>\n",
       "      <th>2</th>\n",
       "      <td>31112</td>\n",
       "      <td>Male</td>\n",
       "      <td>80.0</td>\n",
       "      <td>0</td>\n",
       "      <td>1</td>\n",
       "      <td>Yes</td>\n",
       "      <td>Private</td>\n",
       "      <td>Rural</td>\n",
       "      <td>105.92</td>\n",
       "      <td>32.5</td>\n",
       "      <td>never smoked</td>\n",
       "      <td>1</td>\n",
       "    </tr>\n",
       "    <tr>\n",
       "      <th>3</th>\n",
       "      <td>60182</td>\n",
       "      <td>Female</td>\n",
       "      <td>49.0</td>\n",
       "      <td>0</td>\n",
       "      <td>0</td>\n",
       "      <td>Yes</td>\n",
       "      <td>Private</td>\n",
       "      <td>Urban</td>\n",
       "      <td>171.23</td>\n",
       "      <td>34.4</td>\n",
       "      <td>smokes</td>\n",
       "      <td>1</td>\n",
       "    </tr>\n",
       "    <tr>\n",
       "      <th>4</th>\n",
       "      <td>1665</td>\n",
       "      <td>Female</td>\n",
       "      <td>79.0</td>\n",
       "      <td>1</td>\n",
       "      <td>0</td>\n",
       "      <td>Yes</td>\n",
       "      <td>Self-employed</td>\n",
       "      <td>Rural</td>\n",
       "      <td>174.12</td>\n",
       "      <td>24.0</td>\n",
       "      <td>never smoked</td>\n",
       "      <td>1</td>\n",
       "    </tr>\n",
       "  </tbody>\n",
       "</table>\n",
       "</div>"
      ],
      "text/plain": [
       "      id  gender   age  hypertension  heart_disease ever_married  \\\n",
       "0   9046    Male  67.0             0              1          Yes   \n",
       "1  51676  Female  61.0             0              0          Yes   \n",
       "2  31112    Male  80.0             0              1          Yes   \n",
       "3  60182  Female  49.0             0              0          Yes   \n",
       "4   1665  Female  79.0             1              0          Yes   \n",
       "\n",
       "       work_type Residence_type  avg_glucose_level   bmi   smoking_status  \\\n",
       "0        Private          Urban             228.69  36.6  formerly smoked   \n",
       "1  Self-employed          Rural             202.21   NaN     never smoked   \n",
       "2        Private          Rural             105.92  32.5     never smoked   \n",
       "3        Private          Urban             171.23  34.4           smokes   \n",
       "4  Self-employed          Rural             174.12  24.0     never smoked   \n",
       "\n",
       "   stroke  \n",
       "0       1  \n",
       "1       1  \n",
       "2       1  \n",
       "3       1  \n",
       "4       1  "
      ]
     },
     "execution_count": 2,
     "metadata": {},
     "output_type": "execute_result"
    }
   ],
   "source": [
    "import pandas as pd\n",
    "\n",
    "# Datensatz laden\n",
    "df = pd.read_csv(\"../data/healthcare-dataset-stroke-prediction.csv\")\n",
    "\n",
    "# Vorschau auf die ersten 5 Zeilen\n",
    "df.head()\n"
   ]
  },
  {
   "cell_type": "markdown",
   "id": "a3b23755-98ed-4e02-81c6-3d627096797d",
   "metadata": {},
   "source": [
    "## Fehlende Werte behandeln\n",
    "\n",
    "Wir prüfen den Datensatz auf fehlende Werte und bereinigen diese.\n",
    "Besonders in den Spalten `bmi` und `smoking_status` können Lücken auftreten.\n"
   ]
  },
  {
   "cell_type": "code",
   "execution_count": 3,
   "id": "f6aefe2c-81d0-4bdb-bc12-2afaab4517d7",
   "metadata": {},
   "outputs": [
    {
     "data": {
      "text/plain": [
       "id                     0\n",
       "gender                 0\n",
       "age                    0\n",
       "hypertension           0\n",
       "heart_disease          0\n",
       "ever_married           0\n",
       "work_type              0\n",
       "Residence_type         0\n",
       "avg_glucose_level      0\n",
       "bmi                  201\n",
       "smoking_status         0\n",
       "stroke                 0\n",
       "dtype: int64"
      ]
     },
     "execution_count": 3,
     "metadata": {},
     "output_type": "execute_result"
    }
   ],
   "source": [
    "# Anzahl fehlender Werte pro Spalte anzeigen\n",
    "df.isnull().sum()\n"
   ]
  },
  {
   "cell_type": "code",
   "execution_count": 4,
   "id": "b964b454-0bd7-4309-929b-7c8cded27cdf",
   "metadata": {},
   "outputs": [],
   "source": [
    "# Fehlende Werte in 'bmi' mit Median ersetzen\n",
    "df['bmi'] = df['bmi'].fillna(df['bmi'].median())\n",
    "\n",
    "# Fehlende Werte in 'smoking_status' mit \"Unknown\" füllen\n",
    "df['smoking_status'] = df['smoking_status'].fillna(\"Unknown\")\n"
   ]
  },
  {
   "cell_type": "code",
   "execution_count": 5,
   "id": "d6205c26-b1ef-4e1a-a032-90326426e442",
   "metadata": {},
   "outputs": [
    {
     "data": {
      "text/plain": [
       "id                   0\n",
       "gender               0\n",
       "age                  0\n",
       "hypertension         0\n",
       "heart_disease        0\n",
       "ever_married         0\n",
       "work_type            0\n",
       "Residence_type       0\n",
       "avg_glucose_level    0\n",
       "bmi                  0\n",
       "smoking_status       0\n",
       "stroke               0\n",
       "dtype: int64"
      ]
     },
     "execution_count": 5,
     "metadata": {},
     "output_type": "execute_result"
    }
   ],
   "source": [
    "# Kontrolle: Jetzt sollte alles 0 sein\n",
    "df.isnull().sum()\n"
   ]
  },
  {
   "cell_type": "markdown",
   "id": "e7369e91-6b43-46e5-8eb3-b4f2bf3e6f13",
   "metadata": {},
   "source": [
    "## Erste Bias-Analyse: Geschlechterverteilung\n",
    "\n",
    "Wir analysieren, ob die Geschlechter im Datensatz gleichmäßig verteilt sind. \n",
    "Eine ungleiche Verteilung kann zu Verzerrungen (Bias) führen.\n"
   ]
  },
  {
   "cell_type": "code",
   "execution_count": 6,
   "id": "be0ef0cd-b851-44f4-9365-db92ac357428",
   "metadata": {},
   "outputs": [
    {
     "data": {
      "text/plain": [
       "gender\n",
       "Female    58.590998\n",
       "Male      41.389432\n",
       "Other      0.019569\n",
       "Name: proportion, dtype: float64"
      ]
     },
     "execution_count": 6,
     "metadata": {},
     "output_type": "execute_result"
    }
   ],
   "source": [
    "# Geschlechterverteilung anzeigen\n",
    "df['gender'].value_counts(normalize=True) * 100\n"
   ]
  },
  {
   "cell_type": "code",
   "execution_count": 7,
   "id": "0999a2ac-2b55-475b-a4b5-a5fa24839aaa",
   "metadata": {},
   "outputs": [
    {
     "data": {
      "image/png": "[encoded data removed]",
      "text/plain": [
       "<Figure size 640x480 with 1 Axes>"
      ]
     },
     "metadata": {},
     "output_type": "display_data"
    }
   ],
   "source": [
    "import matplotlib.pyplot as plt\n",
    "\n",
    "# Diagramm zur Geschlechterverteilung\n",
    "df['gender'].value_counts().plot(kind='bar', color=['skyblue', 'lightgreen', 'lightgray'])\n",
    "plt.title(\"Geschlechterverteilung im Datensatz\")\n",
    "plt.ylabel(\"Anzahl\")\n",
    "plt.xlabel(\"Geschlecht\")\n",
    "plt.xticks(rotation=0)\n",
    "plt.show()\n"
   ]
  },
  {
   "cell_type": "markdown",
   "id": "04e11d93-b005-46d6-ad13-42a9b7603b96",
   "metadata": {},
   "source": [
    "## Bias-Analyse: Altersverteilung\n",
    "\n",
    "Wir analysieren die Altersverteilung im Datensatz, um mögliche Verzerrungen zu erkennen.  \n",
    "Eine ungleichmäßige Verteilung kann die Objektivität des Modells beeinträchtigen.\n"
   ]
  },
  {
   "cell_type": "code",
   "execution_count": 8,
   "id": "736fb240-e1ba-46dd-9bdd-5b7dd22f1cb6",
   "metadata": {},
   "outputs": [
    {
     "data": {
      "image/png": "[encoded data removed]",
      "text/plain": [
       "<Figure size 800x500 with 1 Axes>"
      ]
     },
     "metadata": {},
     "output_type": "display_data"
    }
   ],
   "source": [
    "# Verteilung des Alters als Histogramm\n",
    "plt.figure(figsize=(8, 5))\n",
    "plt.hist(df['age'], bins=20, color='cornflowerblue', edgecolor='black')\n",
    "plt.title(\"Altersverteilung im Datensatz\")\n",
    "plt.xlabel(\"Alter\")\n",
    "plt.ylabel(\"Anzahl\")\n",
    "plt.grid(axis='y', alpha=0.3)\n",
    "plt.show()\n"
   ]
  },
  {
   "cell_type": "markdown",
   "id": "0ca964d6-8162-4749-b243-8fcb351a4217",
   "metadata": {},
   "source": [
    "## Analyse der Zielvariable: `stroke`\n",
    "\n",
    "Wir prüfen die Verteilung der Zielvariable `stroke`.  \n",
    "Ein unausgeglichenes Verhältnis zwischen Klassen (z. B. viele \"0\", wenige \"1\") kann das Modell stark beeinflussen.\n"
   ]
  },
  {
   "cell_type": "code",
   "execution_count": 9,
   "id": "35070c3e-8959-44b7-8398-70738edd1383",
   "metadata": {},
   "outputs": [
    {
     "data": {
      "text/plain": [
       "stroke\n",
       "0    95.127202\n",
       "1     4.872798\n",
       "Name: proportion, dtype: float64"
      ]
     },
     "execution_count": 9,
     "metadata": {},
     "output_type": "execute_result"
    }
   ],
   "source": [
    "# Klassenverteilung anzeigen\n",
    "df['stroke'].value_counts(normalize=True) * 100\n"
   ]
  },
  {
   "cell_type": "code",
   "execution_count": 10,
   "id": "62a28c35-7354-41d1-b06f-18341aeb47aa",
   "metadata": {},
   "outputs": [
    {
     "data": {
      "image/png": "[encoded data removed]",
      "text/plain": [
       "<Figure size 640x480 with 1 Axes>"
      ]
     },
     "metadata": {},
     "output_type": "display_data"
    }
   ],
   "source": [
    "import matplotlib.pyplot as plt\n",
    "\n",
    "# Diagramm zur Klassenverteilung\n",
    "df['stroke'].value_counts().plot(kind='bar', color=['lightgreen', 'salmon'])\n",
    "plt.title(\"Verteilung der Zielvariable: Stroke\")\n",
    "plt.xlabel(\"Stroke (0 = kein Schlaganfall, 1 = Schlaganfall)\")\n",
    "plt.ylabel(\"Anzahl\")\n",
    "plt.xticks(rotation=0)\n",
    "plt.grid(axis='y', alpha=0.3)\n",
    "plt.show()\n"
   ]
  },
  {
   "cell_type": "code",
   "execution_count": null,
   "id": "9b56b1e7-2b92-444c-9a09-a550beb98045",
   "metadata": {},
   "outputs": [],
   "source": []
  }
 ],
 "metadata": {
  "kernelspec": {
   "display_name": "Python 3 (ipykernel)",
   "language": "python",
   "name": "python3"
  },
  "language_info": {
   "codemirror_mode": {
    "name": "ipython",
    "version": 3
   },
   "file_extension": ".py",
   "mimetype": "text/x-python",
   "name": "python",
   "nbconvert_exporter": "python",
   "pygments_lexer": "ipython3",
   "version": "3.13.2"
  }
 },
 "nbformat": 4,
 "nbformat_minor": 5
}
